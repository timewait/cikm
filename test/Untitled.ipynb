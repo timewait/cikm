{
 "cells": [
  {
   "cell_type": "code",
   "execution_count": 1,
   "metadata": {},
   "outputs": [
    {
     "name": "stderr",
     "output_type": "stream",
     "text": [
      "/Users/michell/anaconda2/lib/python2.7/site-packages/h5py/__init__.py:36: FutureWarning: Conversion of the second argument of issubdtype from `float` to `np.floating` is deprecated. In future, it will be treated as `np.float64 == np.dtype(float).type`.\n",
      "  from ._conv import register_converters as _register_converters\n"
     ]
    }
   ],
   "source": [
    "import tensorflow as tf"
   ]
  },
  {
   "cell_type": "code",
   "execution_count": 77,
   "metadata": {},
   "outputs": [],
   "source": [
    "sentence = \"i have a cat\"\n",
    "vocabs = [\"UNK\", \"i\", \"chinese\", \"apple\", \"have\", \"a\", \"dog\", \"cat\"]\n",
    "vocabs = [x for x in range(len(vocabs))]\n",
    "words = sentence.split(\" \")\n",
    "features = {\n",
    "    \"words\": [1, 4, 5, 7]\n",
    "}\n",
    "categorical_column = tf.feature_column.categorical_column_with_vocabulary_list(key=\"words\", dtype=tf.int32, vocabulary_list=vocabs, default_value=0)\n",
    "embedding_column = tf.feature_column.embedding_column(categorical_column=categorical_column, dimension=8, combiner='sqrtn', trainable=True, initializer=tf.truncated_normal_initializer(mean=0.0, stddev=0.02))\n",
    "one_hot_column = tf.feature_column.indicator_column(categorical_column=categorical_column)\n",
    "with tf.variable_scope(\"DAN\", reuse=tf.AUTO_REUSE):\n",
    "    inputs = tf.feature_column.input_layer(features, [embedding_column])\n",
    "    inputs2 = tf.feature_column.input_layer(features, [one_hot_column])\n"
   ]
  },
  {
   "cell_type": "code",
   "execution_count": 78,
   "metadata": {},
   "outputs": [
    {
     "name": "stdout",
     "output_type": "stream",
     "text": [
      "[array([[ 0.01921468, -0.00801058,  0.59587425,  0.38643262,  0.13424028,\n",
      "        -0.4815274 , -0.11466285, -0.31375402],\n",
      "       [ 0.10247802,  0.10334241,  0.081283  ,  0.03054311,  0.45947984,\n",
      "         0.09386139,  0.07252886,  0.44325548],\n",
      "       [ 0.22454175,  0.13668396, -0.09811335,  0.44078586, -0.25886863,\n",
      "        -0.56026274, -0.15490668,  0.01994693],\n",
      "       [ 0.08488954,  0.1624444 , -0.06938682, -0.36910886,  0.08002401,\n",
      "         0.24069653,  0.54340017,  0.01454489]], dtype=float32)]\n",
      "[array([[0., 1., 0., 0., 0., 0., 0., 0.],\n",
      "       [0., 0., 0., 0., 1., 0., 0., 0.],\n",
      "       [0., 0., 0., 0., 0., 1., 0., 0.],\n",
      "       [0., 0., 0., 0., 0., 0., 0., 1.]], dtype=float32)]\n"
     ]
    }
   ],
   "source": [
    "with tf.Session() as sess:\n",
    "    sess.run([tf.global_variables_initializer(), tf.local_variables_initializer(), tf.tables_initializer()])    \n",
    "    print sess.run([inputs])\n",
    "    print sess.run([inputs2])"
   ]
  },
  {
   "cell_type": "code",
   "execution_count": null,
   "metadata": {},
   "outputs": [],
   "source": []
  }
 ],
 "metadata": {
  "kernelspec": {
   "display_name": "Python 2",
   "language": "python",
   "name": "python2"
  },
  "language_info": {
   "codemirror_mode": {
    "name": "ipython",
    "version": 2
   },
   "file_extension": ".py",
   "mimetype": "text/x-python",
   "name": "python",
   "nbconvert_exporter": "python",
   "pygments_lexer": "ipython2",
   "version": "2.7.14"
  }
 },
 "nbformat": 4,
 "nbformat_minor": 2
}
