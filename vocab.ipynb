{
 "cells": [
  {
   "cell_type": "code",
   "execution_count": 23,
   "metadata": {},
   "outputs": [],
   "source": [
    "import abc\n",
    "import re\n",
    "class Analyzer(object):\n",
    "    __metaclass__  = abc.ABCMeta\n",
    "    \n",
    "    @abc.abstractmethod\n",
    "    def tokenize(self, sentence):\n",
    "        pass"
   ]
  },
  {
   "cell_type": "code",
   "execution_count": 192,
   "metadata": {},
   "outputs": [],
   "source": [
    "class SpaceTokenAnalyzer(Analyzer):\n",
    "    def __init__(self, stopWords=[]):\n",
    "        self.stopWords = stopWords\n",
    "        \n",
    "    def tokenize(self, sentence):\n",
    "        if not isinstance(sentence, str):\n",
    "            raise Value(\"Need string parameter.\")  \n",
    "        tokens = sentence.split()\n",
    "        return [ t.strip() for t in tokens if t.strip() not in self.stopWords ]"
   ]
  },
  {
   "cell_type": "code",
   "execution_count": 293,
   "metadata": {},
   "outputs": [],
   "source": [
    "import numpy as np\n",
    "import pandas as pd\n",
    "\n",
    "class Vocab(object):\n",
    "    \n",
    "    def __init__(self, sentences, analyzer=SpaceTokenAnalyzer()):\n",
    "        if not isinstance(analyzer, Analyzer):\n",
    "            raise ValueError(\"Need Analyzer type.\")\n",
    "        self.analyzer = analyzer\n",
    "        \n",
    "        if not isinstance(sentences, list):\n",
    "            raise VaalueError(\"Need list parameter.\")\n",
    "        vocab_dict = {}\n",
    "        for i, sentence in enumerate(sentences):\n",
    "            vocab_dict[sentence] = dict((token, 1) for token in self.analyzer.tokenize(sentence))\n",
    "        self.table = pd.DataFrame.from_records(vocab_dict).fillna(0).astype(int).T\n",
    "        self.table.insert(0, \"UNK\", 0)\n",
    "        self.table.insert(0, \"EOS\", 0)\n",
    "        self.table.insert(0, \"BOS\", 0)\n",
    "        self.table.insert(0, \"PAD\", 0)\n",
    "    \n",
    "    def size(self):\n",
    "        return len(self.table.columns)\n",
    "    \n",
    "    def matrix(self):\n",
    "        \"\"\"\n",
    "        获取句子向量表\n",
    "        \"\"\"\n",
    "        return self.table.as_matrix()\n",
    "    \n",
    "    def __vector(self, sentence):\n",
    "        if sentence in self.table.index:\n",
    "            return self.table.loc[sentence,].as_matrix()\n",
    "        else:\n",
    "            record = {sentence: dict((token, 1) for token in self.analyzer.tokenize(sentence))}\n",
    "            self.table = self.table.append(pd.DataFrame.from_records(record).T).fillna(0).astype(int)\n",
    "            return self.table.loc[sentence,].as_matrix()\n",
    "\n",
    "    def words(self):\n",
    "        return self.table.columns.values\n",
    "    \n",
    "    def wordsTable(self):\n",
    "        return [\"{}\\t{}\".format(w, i) for i, w in enumerate(self.words())]\n",
    "    \n",
    "    def loads(self):\n",
    "        raise NotImplementedError()\n",
    "        \n",
    "    def vector(self, sentence):\n",
    "        \"\"\"\n",
    "        返回传入句子对应的向量\n",
    "        \"\"\"\n",
    "        if isinstance(sentence, str):\n",
    "            return self.__vector(sentence)\n",
    "        \n",
    "        if isinstance(sentence, list):\n",
    "            return np.array([self.__vector(s) for s in sentence])\n",
    "    \n",
    "    def __sentence(self, vector):\n",
    "        return self.table.columns[vector].values\n",
    "    \n",
    "    def sentence(self, vector):\n",
    "        \"\"\"\n",
    "        返回给定向量对应的单词\n",
    "        \"\"\"\n",
    "        if not isinstance(vector, np.ndarray):\n",
    "            raise ValueError(\"Need numpy.ndarray parameter.\")\n",
    "        if len(vector.shape) == 1:\n",
    "            return self.__sentence(vector)\n",
    "        \n",
    "        if len(vector.shape) == 2:\n",
    "            return np.array([self.__sentence(v) for v in vector])\n",
    "        raise ValueError(\"vector's shape must be 1 or 2.\")\n",
    "\n",
    "    "
   ]
  },
  {
   "cell_type": "code",
   "execution_count": 294,
   "metadata": {},
   "outputs": [
    {
     "name": "stdout",
     "output_type": "stream",
     "text": [
      "['hola, hago clic en el producto recibido', 'Compr\\xc3\\xa9 un producto y no he recibido un correo electr\\xc3\\xb3nico de confirmaci\\xc3\\xb3n', '\\xc2\\xa1Hola! Cerr\\xc3\\xa9 la disputa el 21 de mayo de 2017 y dice que se realizar\\xc3\\xa1 el reembolso. \\xc2\\xbfCu\\xc3\\xa1ndo se reembolsar\\xc3\\xa1 el dinero?', 'No obtuve el reembolso de mi dinero. Han pasado dos meses. \\xc2\\xbfCu\\xc3\\xa1ndo devolver\\xc3\\xa1 dinero?', 'Orden\\xc3\\xa9 de Espa\\xc3\\xb1a a Espa\\xc3\\xb1a ahora que mandan el pedido de China?', 'Mi pedido lleg\\xc3\\xb3 pero el color es diferente al que ped\\xc3\\xad.', '\\xc2\\xbfDebo pagar impuestos personalizados?', 'C\\xc3\\xb3mo pagar los derechos de aduana', 'No recib\\xc3\\xad mi pedido?', 'Mi pedido muestra que no he pagado, pero lo hice', 'Hola Eva Al principio la pregunta. \\xc2\\xbfPuedo escribir en alem\\xc3\\xa1n?', '\\xc2\\xbfC\\xc3\\xb3mo puedo escribir comentarios para los productos?', 'estoy tan enojado', 'Abr\\xc3\\xad una disputa y hasta ahora nada', 'No puedo abrir una disputa', 'No puedo rastrear.', '\\xc2\\xbfC\\xc3\\xb3mo puedo verificar el n\\xc3\\xbamero de pedido?', '\\xc2\\xbfD\\xc3\\xb3nde puedo ver el n\\xc3\\xbamero de mi rastreador de pedidos?']\n"
     ]
    }
   ],
   "source": [
    "count = 0;\n",
    "sentences = []\n",
    "with open(\"data/cikm_english_train_20180516.txt\", 'r') as f:\n",
    "    for line in f:\n",
    "        count = count + 1\n",
    "        if count == 10:\n",
    "            break\n",
    "        s = line.split(\"\\t\")\n",
    "        sentences.append(s[1])\n",
    "        sentences.append(s[3])        \n",
    "    print sentences"
   ]
  },
  {
   "cell_type": "code",
   "execution_count": 295,
   "metadata": {},
   "outputs": [],
   "source": [
    "vocab = Vocab(sentences, analyzer=SpaceTokenAnalyzer(stopWords=[]))\n",
    "#print vocab.table\n",
    "#print vocab.table.append(pd.DataFrame.from_records(r).T)\n",
    "#print vocab.table.as_matrix()\n",
    "#print vocab.table.columns[np.array([0,2])].values\n",
    "#vocab.sentence(np.array([0,2]))\n",
    "#print vocab.vector(\"hi ma zhi yong\")\n",
    "#print vocab.vector(\"hello world\")\n",
    "#vocab.table.loc[\"hello world\":\"hello wrold\",]\n",
    "#print vocab.matrix()"
   ]
  },
  {
   "cell_type": "code",
   "execution_count": 296,
   "metadata": {},
   "outputs": [
    {
     "name": "stdout",
     "output_type": "stream",
     "text": [
      "102\n"
     ]
    }
   ],
   "source": [
    "print vocab.size()"
   ]
  },
  {
   "cell_type": "code",
   "execution_count": 297,
   "metadata": {},
   "outputs": [
    {
     "name": "stdout",
     "output_type": "stream",
     "text": [
      "[0 0 0 0 0 0 0 0 0 0 0 0 0 0 0 0 0 0 0 0 0 0 0 0 0 1 0 0 0 0 0 0 0 0 0 0 0\n",
      " 0 0 1 0 1 0 0 0 0 1 0 0 0 1 0 0 0 0 0 0 0 0 0 0 0 0 0 0 0 0 0 0 0 0 0 0 0\n",
      " 0 0 0 1 0 0 0 0 0 0 1 0 0 0 0 0 0 0 0 0 0 0 0 0 0 0 0 0]\n"
     ]
    }
   ],
   "source": [
    "print vocab.vector(\"hola, hago clic en el producto recibido\")"
   ]
  },
  {
   "cell_type": "code",
   "execution_count": 298,
   "metadata": {},
   "outputs": [
    {
     "name": "stdout",
     "output_type": "stream",
     "text": [
      "                                     PAD  BOS  EOS  UNK  2017  21  Abrí  Al  \\\n",
      "Abrí una disputa y hasta ahora nada    0    0    0    0     0   0     1   0   \n",
      "\n",
      "                                     Cerré  China?   ...    una  ver  \\\n",
      "Abrí una disputa y hasta ahora nada      0       0   ...      1    0   \n",
      "\n",
      "                                     verificar  y  ¡Hola!  ¿Cuándo  ¿Cómo  \\\n",
      "Abrí una disputa y hasta ahora nada          0  1       0        0      0   \n",
      "\n",
      "                                     ¿Debo  ¿Dónde  ¿Puedo  \n",
      "Abrí una disputa y hasta ahora nada      0       0       0  \n",
      "\n",
      "[1 rows x 102 columns]\n"
     ]
    }
   ],
   "source": [
    "print vocab.table.head(1)"
   ]
  },
  {
   "cell_type": "code",
   "execution_count": 299,
   "metadata": {},
   "outputs": [
    {
     "name": "stdout",
     "output_type": "stream",
     "text": [
      "['PAD\\t0', 'BOS\\t1', 'EOS\\t2', 'UNK\\t3', '2017\\t4', '21\\t5', 'Abr\\xc3\\xad\\t6', 'Al\\t7', 'Cerr\\xc3\\xa9\\t8', 'China?\\t9', 'Compr\\xc3\\xa9\\t10', 'C\\xc3\\xb3mo\\t11', 'Espa\\xc3\\xb1a\\t12', 'Eva\\t13', 'Han\\t14', 'Hola\\t15', 'Mi\\t16', 'No\\t17', 'Orden\\xc3\\xa9\\t18', 'a\\t19', 'abrir\\t20', 'aduana\\t21', 'ahora\\t22', 'al\\t23', 'alem\\xc3\\xa1n?\\t24', 'clic\\t25', 'color\\t26', 'comentarios\\t27', 'confirmaci\\xc3\\xb3n\\t28', 'correo\\t29', 'de\\t30', 'derechos\\t31', 'devolver\\xc3\\xa1\\t32', 'dice\\t33', 'diferente\\t34', 'dinero.\\t35', 'dinero?\\t36', 'disputa\\t37', 'dos\\t38', 'el\\t39', 'electr\\xc3\\xb3nico\\t40', 'en\\t41', 'enojado\\t42', 'es\\t43', 'escribir\\t44', 'estoy\\t45', 'hago\\t46', 'hasta\\t47', 'he\\t48', 'hice\\t49', 'hola,\\t50', 'impuestos\\t51', 'la\\t52', 'lleg\\xc3\\xb3\\t53', 'lo\\t54', 'los\\t55', 'mandan\\t56', 'mayo\\t57', 'meses.\\t58', 'mi\\t59', 'muestra\\t60', 'nada\\t61', 'no\\t62', 'n\\xc3\\xbamero\\t63', 'obtuve\\t64', 'pagado,\\t65', 'pagar\\t66', 'para\\t67', 'pasado\\t68', 'pedido\\t69', 'pedido?\\t70', 'pedidos?\\t71', 'ped\\xc3\\xad.\\t72', 'pero\\t73', 'personalizados?\\t74', 'pregunta.\\t75', 'principio\\t76', 'producto\\t77', 'productos?\\t78', 'puedo\\t79', 'que\\t80', 'rastreador\\t81', 'rastrear.\\t82', 'realizar\\xc3\\xa1\\t83', 'recibido\\t84', 'recib\\xc3\\xad\\t85', 'reembolsar\\xc3\\xa1\\t86', 'reembolso\\t87', 'reembolso.\\t88', 'se\\t89', 'tan\\t90', 'un\\t91', 'una\\t92', 'ver\\t93', 'verificar\\t94', 'y\\t95', '\\xc2\\xa1Hola!\\t96', '\\xc2\\xbfCu\\xc3\\xa1ndo\\t97', '\\xc2\\xbfC\\xc3\\xb3mo\\t98', '\\xc2\\xbfDebo\\t99', '\\xc2\\xbfD\\xc3\\xb3nde\\t100', '\\xc2\\xbfPuedo\\t101']\n"
     ]
    }
   ],
   "source": [
    "print vocab.wordsTable()"
   ]
  },
  {
   "cell_type": "code",
   "execution_count": null,
   "metadata": {},
   "outputs": [],
   "source": []
  },
  {
   "cell_type": "code",
   "execution_count": null,
   "metadata": {},
   "outputs": [],
   "source": []
  }
 ],
 "metadata": {
  "kernelspec": {
   "display_name": "Python 2",
   "language": "python",
   "name": "python2"
  },
  "language_info": {
   "codemirror_mode": {
    "name": "ipython",
    "version": 2
   },
   "file_extension": ".py",
   "mimetype": "text/x-python",
   "name": "python",
   "nbconvert_exporter": "python",
   "pygments_lexer": "ipython2",
   "version": "2.7.14"
  }
 },
 "nbformat": 4,
 "nbformat_minor": 2
}
