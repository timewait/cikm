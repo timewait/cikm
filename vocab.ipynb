{
 "cells": [
  {
   "cell_type": "code",
   "execution_count": 23,
   "metadata": {},
   "outputs": [],
   "source": [
    "import abc\n",
    "import re\n",
    "class Analyzer(object):\n",
    "    __metaclass__  = abc.ABCMeta\n",
    "    \n",
    "    @abc.abstractmethod\n",
    "    def tokenize(self, sentence):\n",
    "        pass"
   ]
  },
  {
   "cell_type": "code",
   "execution_count": 192,
   "metadata": {},
   "outputs": [],
   "source": [
    "class SpaceTokenAnalyzer(Analyzer):\n",
    "    def __init__(self, stopWords=[]):\n",
    "        self.stopWords = stopWords\n",
    "        \n",
    "    def tokenize(self, sentence):\n",
    "        if not isinstance(sentence, str):\n",
    "            raise Value(\"Need string parameter.\")  \n",
    "        tokens = sentence.split()\n",
    "        return [ t.strip() for t in tokens if t.strip() not in self.stopWords ]"
   ]
  },
  {
   "cell_type": "code",
   "execution_count": 228,
   "metadata": {},
   "outputs": [],
   "source": [
    "import numpy as np\n",
    "import pandas as pd\n",
    "\n",
    "class Vocab(object):\n",
    "    \n",
    "    def __init__(self, sentences, analyzer=SpaceTokenAnalyzer()):\n",
    "        if not isinstance(analyzer, Analyzer):\n",
    "            raise ValueError(\"Need Analyzer type.\")\n",
    "        self.analyzer = analyzer\n",
    "        \n",
    "        if not isinstance(sentences, list):\n",
    "            raise VaalueError(\"Need list parameter.\")\n",
    "        vocab_dict = {}\n",
    "        for i, sentence in enumerate(sentences):\n",
    "            vocab_dict[sentence] = dict((token, 1) for token in self.analyzer.tokenize(sentence))\n",
    "        self.table = pd.DataFrame.from_records(vocab_dict).fillna(0).astype(int).T\n",
    "        self.table.insert(0, \"UNK\", 0)\n",
    "        self.table.insert(0, \"EOS\", 0)\n",
    "        self.table.insert(0, \"BOS\", 0)\n",
    "        self.table.insert(0, \"PAD\", 0)\n",
    "    \n",
    "    def size(self):\n",
    "        return len(self.table.columns)\n",
    "    \n",
    "    def matrix(self):\n",
    "        \"\"\"\n",
    "        获取句子向量表\n",
    "        \"\"\"\n",
    "        return self.table.as_matrix()\n",
    "    \n",
    "    def __vector(self, sentence):\n",
    "        if sentence in self.table.index:\n",
    "            return self.table.loc[sentence,]\n",
    "        else:\n",
    "            record = {sentence: dict((token, 1) for token in self.analyzer.tokenize(sentence))}\n",
    "            self.table = self.table.append(pd.DataFrame.from_records(record).T).fillna(0).astype(int)\n",
    "            return self.table.loc[sentence,]\n",
    "\n",
    "        \n",
    "    def vector(self, sentence):\n",
    "        \"\"\"\n",
    "        返回传入句子对应的向量\n",
    "        \"\"\"\n",
    "        if isinstance(sentence, str):\n",
    "            return self.__vector(sentence)\n",
    "        \n",
    "        if isinstance(sentence, list):\n",
    "            return np.array([self.__vector(s) for s in sentence])\n",
    "    \n",
    "    def __sentence(self, vector):\n",
    "        return self.table.columns[vector].values\n",
    "    \n",
    "    def sentence(self, vector):\n",
    "        \"\"\"\n",
    "        返回给定向量对应的单词\n",
    "        \"\"\"\n",
    "        if not isinstance(vector, np.ndarray):\n",
    "            raise ValueError(\"Need numpy.ndarray parameter.\")\n",
    "        if len(vector.shape) == 1:\n",
    "            return self.__sentence(vector)\n",
    "        \n",
    "        if len(vector.shape) == 2:\n",
    "            return np.array([self.__sentence(v) for v in vector])\n",
    "        raise ValueError(\"vector's shape must be 1 or 2.\")\n",
    "\n",
    "    "
   ]
  },
  {
   "cell_type": "code",
   "execution_count": 229,
   "metadata": {},
   "outputs": [
    {
     "name": "stdout",
     "output_type": "stream",
     "text": [
      "['hola, hago clic en el producto recibido', 'Compr\\xc3\\xa9 un producto y no he recibido un correo electr\\xc3\\xb3nico de confirmaci\\xc3\\xb3n', '\\xc2\\xa1Hola! Cerr\\xc3\\xa9 la disputa el 21 de mayo de 2017 y dice que se realizar\\xc3\\xa1 el reembolso. \\xc2\\xbfCu\\xc3\\xa1ndo se reembolsar\\xc3\\xa1 el dinero?', 'No obtuve el reembolso de mi dinero. Han pasado dos meses. \\xc2\\xbfCu\\xc3\\xa1ndo devolver\\xc3\\xa1 dinero?', 'Orden\\xc3\\xa9 de Espa\\xc3\\xb1a a Espa\\xc3\\xb1a ahora que mandan el pedido de China?', 'Mi pedido lleg\\xc3\\xb3 pero el color es diferente al que ped\\xc3\\xad.', '\\xc2\\xbfDebo pagar impuestos personalizados?', 'C\\xc3\\xb3mo pagar los derechos de aduana', 'No recib\\xc3\\xad mi pedido?', 'Mi pedido muestra que no he pagado, pero lo hice', 'Hola Eva Al principio la pregunta. \\xc2\\xbfPuedo escribir en alem\\xc3\\xa1n?', '\\xc2\\xbfC\\xc3\\xb3mo puedo escribir comentarios para los productos?', 'estoy tan enojado', 'Abr\\xc3\\xad una disputa y hasta ahora nada', 'No puedo abrir una disputa', 'No puedo rastrear.', '\\xc2\\xbfC\\xc3\\xb3mo puedo verificar el n\\xc3\\xbamero de pedido?', '\\xc2\\xbfD\\xc3\\xb3nde puedo ver el n\\xc3\\xbamero de mi rastreador de pedidos?']\n"
     ]
    }
   ],
   "source": [
    "count = 0;\n",
    "sentences = []\n",
    "with open(\"data/cikm_english_train_20180516.txt\", 'r') as f:\n",
    "    for line in f:\n",
    "        count = count + 1\n",
    "        if count == 10:\n",
    "            break\n",
    "        s = line.split(\"\\t\")\n",
    "        sentences.append(s[1])\n",
    "        sentences.append(s[3])        \n",
    "    print sentences"
   ]
  },
  {
   "cell_type": "code",
   "execution_count": 230,
   "metadata": {},
   "outputs": [],
   "source": [
    "vocab = Vocab(sentences, analyzer=SpaceTokenAnalyzer(stopWords=[]))\n",
    "#print vocab.table\n",
    "#print vocab.table.append(pd.DataFrame.from_records(r).T)\n",
    "#print vocab.table.as_matrix()\n",
    "#print vocab.table.columns[np.array([0,2])].values\n",
    "#vocab.sentence(np.array([0,2]))\n",
    "#print vocab.vector(\"hi ma zhi yong\")\n",
    "#print vocab.vector(\"hello world\")\n",
    "#vocab.table.loc[\"hello world\":\"hello wrold\",]\n",
    "#print vocab.matrix()"
   ]
  },
  {
   "cell_type": "code",
   "execution_count": 231,
   "metadata": {},
   "outputs": [
    {
     "name": "stdout",
     "output_type": "stream",
     "text": [
      "102\n"
     ]
    }
   ],
   "source": [
    "print vocab.size()"
   ]
  },
  {
   "cell_type": "code",
   "execution_count": 232,
   "metadata": {},
   "outputs": [
    {
     "name": "stdout",
     "output_type": "stream",
     "text": [
      "PAD                0\n",
      "BOS                0\n",
      "EOS                0\n",
      "UNK                0\n",
      "2017               0\n",
      "21                 0\n",
      "Abrí               0\n",
      "Al                 0\n",
      "Cerré              0\n",
      "China?             0\n",
      "Compré             0\n",
      "Cómo               0\n",
      "España             0\n",
      "Eva                0\n",
      "Han                0\n",
      "Hola               0\n",
      "Mi                 0\n",
      "No                 0\n",
      "Ordené             0\n",
      "a                  0\n",
      "abrir              0\n",
      "aduana             0\n",
      "ahora              0\n",
      "al                 0\n",
      "alemán?            0\n",
      "clic               1\n",
      "color              0\n",
      "comentarios        0\n",
      "confirmación       0\n",
      "correo             0\n",
      "                  ..\n",
      "pedí.              0\n",
      "pero               0\n",
      "personalizados?    0\n",
      "pregunta.          0\n",
      "principio          0\n",
      "producto           1\n",
      "productos?         0\n",
      "puedo              0\n",
      "que                0\n",
      "rastreador         0\n",
      "rastrear.          0\n",
      "realizará          0\n",
      "recibido           1\n",
      "recibí             0\n",
      "reembolsará        0\n",
      "reembolso          0\n",
      "reembolso.         0\n",
      "se                 0\n",
      "tan                0\n",
      "un                 0\n",
      "una                0\n",
      "ver                0\n",
      "verificar          0\n",
      "y                  0\n",
      "¡Hola!             0\n",
      "¿Cuándo            0\n",
      "¿Cómo              0\n",
      "¿Debo              0\n",
      "¿Dónde             0\n",
      "¿Puedo             0\n",
      "Name: hola, hago clic en el producto recibido, Length: 102, dtype: int64\n"
     ]
    }
   ],
   "source": [
    "print vocab.vector(\"hola, hago clic en el producto recibido\")[0:,]"
   ]
  },
  {
   "cell_type": "code",
   "execution_count": null,
   "metadata": {},
   "outputs": [],
   "source": []
  }
 ],
 "metadata": {
  "kernelspec": {
   "display_name": "Python 2",
   "language": "python",
   "name": "python2"
  },
  "language_info": {
   "codemirror_mode": {
    "name": "ipython",
    "version": 2
   },
   "file_extension": ".py",
   "mimetype": "text/x-python",
   "name": "python",
   "nbconvert_exporter": "python",
   "pygments_lexer": "ipython2",
   "version": "2.7.14"
  }
 },
 "nbformat": 4,
 "nbformat_minor": 2
}
